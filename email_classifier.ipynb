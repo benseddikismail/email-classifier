{
 "cells": [
  {
   "cell_type": "code",
   "execution_count": 33,
   "id": "fb2e3a74-ec96-475c-b41a-a3d70f67415d",
   "metadata": {},
   "outputs": [],
   "source": [
    "import pandas as pd\n",
    "import numpy as np\n",
    "from sklearn.model_selection import train_test_split\n",
    "from sklearn.feature_extraction.text import TfidfVectorizer\n",
    "from sklearn.metrics import accuracy_score\n",
    "from sklearn.linear_model import LogisticRegression\n",
    "from nltk.corpus import stopwords\n",
    "import scipy.sparse as sp"
   ]
  },
  {
   "cell_type": "code",
   "execution_count": 2,
   "id": "8f19be3a-5311-4ec5-8171-039d360c9d44",
   "metadata": {
    "tags": []
   },
   "outputs": [],
   "source": [
    "#pre-processing\n",
    "df = pd.read_csv('emails.csv', encoding= 'ISO-8859-1', names=['sender', 'subject', 'label'])"
   ]
  },
  {
   "cell_type": "code",
   "execution_count": 3,
   "id": "f16a0416-9421-4caa-95ed-b3943416f598",
   "metadata": {},
   "outputs": [
    {
     "data": {
      "text/plain": [
       "sender     0\n",
       "subject    1\n",
       "label      0\n",
       "dtype: int64"
      ]
     },
     "execution_count": 3,
     "metadata": {},
     "output_type": "execute_result"
    }
   ],
   "source": [
    "df.isnull().sum()"
   ]
  },
  {
   "cell_type": "code",
   "execution_count": 4,
   "id": "e7291e2b-60bf-426b-8b02-8bad02aed0dc",
   "metadata": {
    "tags": []
   },
   "outputs": [
    {
     "data": {
      "text/plain": [
       "ad                   190\n",
       "general knowledge    170\n",
       "career               117\n",
       "account              101\n",
       "important             72\n",
       "Name: label, dtype: int64"
      ]
     },
     "execution_count": 4,
     "metadata": {},
     "output_type": "execute_result"
    }
   ],
   "source": [
    "df[\"label\"].value_counts()"
   ]
  },
  {
   "cell_type": "code",
   "execution_count": 5,
   "id": "4032910a-f118-468b-adfc-0678a7aff7f9",
   "metadata": {
    "tags": []
   },
   "outputs": [],
   "source": [
    "#label encoding: ad: 0, important: 1, career: 2, account: 3, general knowlegde: 4\n",
    "df.loc[df['label'] == 'ad', 'label',] = 0\n",
    "df.loc[df['label'] == 'important', 'label',] = 1\n",
    "df.loc[df['label'] == 'career', 'label',] = 2\n",
    "df.loc[df['label'] == 'account', 'label',] = 3\n",
    "df.loc[df['label'] == 'general knowledge', 'label',] = 4"
   ]
  },
  {
   "cell_type": "code",
   "execution_count": 6,
   "id": "01526b46-d82b-4199-b0a2-449d6e406360",
   "metadata": {
    "tags": []
   },
   "outputs": [
    {
     "name": "stdout",
     "output_type": "stream",
     "text": [
      "                                           sender  \\\n",
      "0      Quizlet <newsletter@lifecycle.quizlet.com>   \n",
      "1       Unity Technologies <accounts@unity3d.com>   \n",
      "2    Grammarly Insights <info@send.grammarly.com>   \n",
      "3       Unity Technologies <accounts@unity3d.com>   \n",
      "4       Unity Technologies <accounts@unity3d.com>   \n",
      "..                                            ...   \n",
      "645               Reddit <noreply@redditmail.com>   \n",
      "646               Reddit <noreply@redditmail.com>   \n",
      "647               Reddit <noreply@redditmail.com>   \n",
      "648         InFormation* <bkismail2000@gmail.com>   \n",
      "649       \"InFormation*\" <bkismail2000@gmail.com>   \n",
      "\n",
      "                                               subject label  \n",
      "0          You're so close to hitting a 2-week streak.     0  \n",
      "1    You're about to lose access to Unity Student T...     3  \n",
      "2            Your weekly stats + one from us: 50% Off!     0  \n",
      "3           Your Unity Student Plan is about to expire     3  \n",
      "4           Your Unity Student Plan is about to expire     3  \n",
      "..                                                 ...   ...  \n",
      "645  \"1.4k online member Still no Karma!!! I will ...\"     4  \n",
      "646  \"[Premier league] Martin Odegaard is Player o...\"     4  \n",
      "647  \"[Hanif Berkane] Walid Regragui on semi-final...\"     4  \n",
      "648                                        summer pics     1  \n",
      "649                                                NaN     1  \n",
      "\n",
      "[650 rows x 3 columns]\n"
     ]
    }
   ],
   "source": [
    "print(df)"
   ]
  },
  {
   "cell_type": "code",
   "execution_count": 7,
   "id": "c25ed824-fba4-42c6-bc6e-2b63c6fd516b",
   "metadata": {
    "tags": []
   },
   "outputs": [],
   "source": [
    "#separating content and labels\n",
    "x_sender = df['sender']\n",
    "x_subject = df['subject']\n",
    "y = df['label']"
   ]
  },
  {
   "cell_type": "code",
   "execution_count": 8,
   "id": "23c8cf6d-e2a1-42c4-bcd5-d38d2feab8c8",
   "metadata": {
    "tags": []
   },
   "outputs": [
    {
     "name": "stdout",
     "output_type": "stream",
     "text": [
      "0            You're so close to hitting a 2-week streak.\n",
      "1      You're about to lose access to Unity Student T...\n",
      "2              Your weekly stats + one from us: 50% Off!\n",
      "3             Your Unity Student Plan is about to expire\n",
      "4             Your Unity Student Plan is about to expire\n",
      "                             ...                        \n",
      "645    \"1.4k online member Still no Karma!!! I will ...\"\n",
      "646    \"[Premier league] Martin Odegaard is Player o...\"\n",
      "647    \"[Hanif Berkane] Walid Regragui on semi-final...\"\n",
      "648                                          summer pics\n",
      "649                                                  NaN\n",
      "Name: subject, Length: 650, dtype: object\n"
     ]
    }
   ],
   "source": [
    "print(x_subject)"
   ]
  },
  {
   "cell_type": "code",
   "execution_count": 9,
   "id": "d5b56389-fc3b-41d0-ab12-dc052b36feb2",
   "metadata": {
    "tags": []
   },
   "outputs": [],
   "source": [
    "#split df:\n",
    "#SENDER\n",
    "x_sender_train, x_sender_test, y_train, y_test = train_test_split(x_sender, y, test_size=0.2, random_state=42)\n",
    "#SUBJECT\n",
    "x_subject_train, x_subject_test, y_train, y_test = train_test_split(x_sender, y, test_size=0.2, random_state=42)"
   ]
  },
  {
   "cell_type": "code",
   "execution_count": 10,
   "id": "6a617cde-71f0-4b41-bbf5-83b0bb0d0819",
   "metadata": {
    "tags": []
   },
   "outputs": [
    {
     "name": "stdout",
     "output_type": "stream",
     "text": [
      "(650,)\n",
      "(650,)\n",
      "(520,)\n",
      "(130,)\n",
      "333                      Reddit <noreply@redditmail.com>\n",
      "29        \"Victoria | APILayer\" <marketing@apilayer.com>\n",
      "553           Codecademy <learn@itr.mail.codecademy.com>\n",
      "286       \"Victoria | APILayer\" <marketing@apilayer.com>\n",
      "425    Binny - ProjectPro Founder <binnymathews@proje...\n",
      "                             ...                        \n",
      "71           Adobe Creative Cloud <mail@email.adobe.com>\n",
      "106    CollegeXpress <CollegeXpress@email.collegexpre...\n",
      "270    Quora Digest <english-personalized-digest@quor...\n",
      "435                          George <george@example.com>\n",
      "102               Naba de Prezi <email@create.prezi.com>\n",
      "Name: sender, Length: 520, dtype: object\n"
     ]
    }
   ],
   "source": [
    "print(x_sender.shape)\n",
    "print(x_subject.shape)\n",
    "print(x_sender_train.shape)\n",
    "print(x_sender_test.shape)\n",
    "print(x_sender_train)"
   ]
  },
  {
   "cell_type": "code",
   "execution_count": 11,
   "id": "60c73369-db28-4891-89dd-e49a3b0430bf",
   "metadata": {
    "tags": []
   },
   "outputs": [
    {
     "name": "stdout",
     "output_type": "stream",
     "text": [
      "637    4\n",
      "220    2\n",
      "428    4\n",
      "326    0\n",
      "72     2\n",
      "      ..\n",
      "515    3\n",
      "375    2\n",
      "369    2\n",
      "244    1\n",
      "602    4\n",
      "Name: label, Length: 130, dtype: object\n"
     ]
    }
   ],
   "source": [
    "print(y_test)"
   ]
  },
  {
   "cell_type": "code",
   "execution_count": 12,
   "id": "37a40bea-6358-4be1-9237-63780412fc93",
   "metadata": {
    "tags": []
   },
   "outputs": [],
   "source": [
    "#convert y_train & y_test to int\n",
    "y_train = y_train.astype('int')\n",
    "y_test = y_test.astype('int')"
   ]
  },
  {
   "cell_type": "code",
   "execution_count": 13,
   "id": "65be9fce-b9cf-4006-b0de-a230e2f3c6de",
   "metadata": {
    "tags": []
   },
   "outputs": [],
   "source": [
    "#feature extraction\n",
    "final_stopwords_list = stopwords.words('english') + stopwords.words('french')\n",
    "feature_extraction = TfidfVectorizer(min_df=1, stop_words=final_stopwords_list, lowercase=True, ngram_range=(1,3))\n",
    "#SENDER\n",
    "x_sender_train_features = feature_extraction.fit_transform(x_sender_train)\n",
    "x_sender_test_features  = feature_extraction.transform(x_sender_test)\n",
    "#SUBJECT\n",
    "x_subject_train_features = feature_extraction.fit_transform(x_subject_train)\n",
    "x_subject_test_features  = feature_extraction.transform(x_subject_test)"
   ]
  },
  {
   "cell_type": "code",
   "execution_count": 14,
   "id": "71e31bb5-04e6-45db-95b1-d0b844c75fd6",
   "metadata": {},
   "outputs": [
    {
     "name": "stdout",
     "output_type": "stream",
     "text": [
      "  (0, 672)\t0.3603673762178535\n",
      "  (0, 791)\t0.3603673762178535\n",
      "  (0, 793)\t0.3603673762178535\n",
      "  (0, 671)\t0.3603673762178535\n",
      "  (0, 790)\t0.3603673762178535\n",
      "  (0, 164)\t0.12140601919316846\n",
      "  (0, 792)\t0.3603673762178535\n",
      "  (0, 658)\t0.2760580692692902\n",
      "  (0, 789)\t0.3603673762178535\n",
      "  (1, 576)\t0.28041367565452113\n",
      "  (1, 56)\t0.28041367565452113\n",
      "  (1, 1040)\t0.28041367565452113\n",
      "  (1, 52)\t0.2725026153843299\n",
      "  (1, 575)\t0.28041367565452113\n",
      "  (1, 55)\t0.28041367565452113\n",
      "  (1, 1039)\t0.28041367565452113\n",
      "  (1, 574)\t0.2725026153843299\n",
      "  (1, 51)\t0.5450052307686598\n",
      "  (1, 1038)\t0.28041367565452113\n",
      "  (1, 164)\t0.06349126864102965\n",
      "  (2, 557)\t0.25489422501422315\n",
      "  (2, 465)\t0.25489422501422315\n",
      "  (2, 524)\t0.25489422501422315\n",
      "  (2, 136)\t0.25489422501422315\n",
      "  (2, 134)\t0.25489422501422315\n",
      "  :\t:\n",
      "  (517, 775)\t0.4290742400714032\n",
      "  (517, 206)\t0.3554005054496008\n",
      "  (517, 164)\t0.06574791496898433\n",
      "  (518, 314)\t0.3435498842950533\n",
      "  (518, 316)\t0.3435498842950533\n",
      "  (518, 313)\t0.3435498842950533\n",
      "  (518, 315)\t0.3435498842950533\n",
      "  (518, 312)\t0.6870997685901066\n",
      "  (518, 279)\t0.1583059042850999\n",
      "  (518, 278)\t0.1583059042850999\n",
      "  (518, 164)\t0.07527481214721034\n",
      "  (519, 185)\t0.25983298235856095\n",
      "  (519, 248)\t0.25983298235856095\n",
      "  (519, 738)\t0.25983298235856095\n",
      "  (519, 625)\t0.25983298235856095\n",
      "  (519, 184)\t0.25983298235856095\n",
      "  (519, 247)\t0.25983298235856095\n",
      "  (519, 624)\t0.25983298235856095\n",
      "  (519, 183)\t0.25983298235856095\n",
      "  (519, 623)\t0.25983298235856095\n",
      "  (519, 735)\t0.24377941176920456\n",
      "  (519, 736)\t0.24377941176920456\n",
      "  (519, 734)\t0.4875588235384091\n",
      "  (519, 240)\t0.18278860711216863\n",
      "  (519, 164)\t0.0489827214705201\n"
     ]
    }
   ],
   "source": [
    "print(x_subject_train_features)"
   ]
  },
  {
   "cell_type": "code",
   "execution_count": 15,
   "id": "3c1c899b-6fff-4c18-b51a-f27686c24c91",
   "metadata": {
    "tags": []
   },
   "outputs": [],
   "source": [
    "#concat features\n",
    "combined_train_features = sp.hstack([x_sender_train_features, x_subject_train_features])\n",
    "combined_test_features = sp.hstack([x_sender_test_features, x_subject_test_features])"
   ]
  },
  {
   "cell_type": "code",
   "execution_count": 34,
   "id": "8f4386e2-8027-4bb2-9d9c-76d1c3af996b",
   "metadata": {},
   "outputs": [
    {
     "data": {
      "text/html": [
       "<style>#sk-container-id-5 {color: black;background-color: white;}#sk-container-id-5 pre{padding: 0;}#sk-container-id-5 div.sk-toggleable {background-color: white;}#sk-container-id-5 label.sk-toggleable__label {cursor: pointer;display: block;width: 100%;margin-bottom: 0;padding: 0.3em;box-sizing: border-box;text-align: center;}#sk-container-id-5 label.sk-toggleable__label-arrow:before {content: \"▸\";float: left;margin-right: 0.25em;color: #696969;}#sk-container-id-5 label.sk-toggleable__label-arrow:hover:before {color: black;}#sk-container-id-5 div.sk-estimator:hover label.sk-toggleable__label-arrow:before {color: black;}#sk-container-id-5 div.sk-toggleable__content {max-height: 0;max-width: 0;overflow: hidden;text-align: left;background-color: #f0f8ff;}#sk-container-id-5 div.sk-toggleable__content pre {margin: 0.2em;color: black;border-radius: 0.25em;background-color: #f0f8ff;}#sk-container-id-5 input.sk-toggleable__control:checked~div.sk-toggleable__content {max-height: 200px;max-width: 100%;overflow: auto;}#sk-container-id-5 input.sk-toggleable__control:checked~label.sk-toggleable__label-arrow:before {content: \"▾\";}#sk-container-id-5 div.sk-estimator input.sk-toggleable__control:checked~label.sk-toggleable__label {background-color: #d4ebff;}#sk-container-id-5 div.sk-label input.sk-toggleable__control:checked~label.sk-toggleable__label {background-color: #d4ebff;}#sk-container-id-5 input.sk-hidden--visually {border: 0;clip: rect(1px 1px 1px 1px);clip: rect(1px, 1px, 1px, 1px);height: 1px;margin: -1px;overflow: hidden;padding: 0;position: absolute;width: 1px;}#sk-container-id-5 div.sk-estimator {font-family: monospace;background-color: #f0f8ff;border: 1px dotted black;border-radius: 0.25em;box-sizing: border-box;margin-bottom: 0.5em;}#sk-container-id-5 div.sk-estimator:hover {background-color: #d4ebff;}#sk-container-id-5 div.sk-parallel-item::after {content: \"\";width: 100%;border-bottom: 1px solid gray;flex-grow: 1;}#sk-container-id-5 div.sk-label:hover label.sk-toggleable__label {background-color: #d4ebff;}#sk-container-id-5 div.sk-serial::before {content: \"\";position: absolute;border-left: 1px solid gray;box-sizing: border-box;top: 0;bottom: 0;left: 50%;z-index: 0;}#sk-container-id-5 div.sk-serial {display: flex;flex-direction: column;align-items: center;background-color: white;padding-right: 0.2em;padding-left: 0.2em;position: relative;}#sk-container-id-5 div.sk-item {position: relative;z-index: 1;}#sk-container-id-5 div.sk-parallel {display: flex;align-items: stretch;justify-content: center;background-color: white;position: relative;}#sk-container-id-5 div.sk-item::before, #sk-container-id-5 div.sk-parallel-item::before {content: \"\";position: absolute;border-left: 1px solid gray;box-sizing: border-box;top: 0;bottom: 0;left: 50%;z-index: -1;}#sk-container-id-5 div.sk-parallel-item {display: flex;flex-direction: column;z-index: 1;position: relative;background-color: white;}#sk-container-id-5 div.sk-parallel-item:first-child::after {align-self: flex-end;width: 50%;}#sk-container-id-5 div.sk-parallel-item:last-child::after {align-self: flex-start;width: 50%;}#sk-container-id-5 div.sk-parallel-item:only-child::after {width: 0;}#sk-container-id-5 div.sk-dashed-wrapped {border: 1px dashed gray;margin: 0 0.4em 0.5em 0.4em;box-sizing: border-box;padding-bottom: 0.4em;background-color: white;}#sk-container-id-5 div.sk-label label {font-family: monospace;font-weight: bold;display: inline-block;line-height: 1.2em;}#sk-container-id-5 div.sk-label-container {text-align: center;}#sk-container-id-5 div.sk-container {/* jupyter's `normalize.less` sets `[hidden] { display: none; }` but bootstrap.min.css set `[hidden] { display: none !important; }` so we also need the `!important` here to be able to override the default hidden behavior on the sphinx rendered scikit-learn.org. See: https://github.com/scikit-learn/scikit-learn/issues/21755 */display: inline-block !important;position: relative;}#sk-container-id-5 div.sk-text-repr-fallback {display: none;}</style><div id=\"sk-container-id-5\" class=\"sk-top-container\"><div class=\"sk-text-repr-fallback\"><pre>LogisticRegression(multi_class=&#x27;multinomial&#x27;)</pre><b>In a Jupyter environment, please rerun this cell to show the HTML representation or trust the notebook. <br />On GitHub, the HTML representation is unable to render, please try loading this page with nbviewer.org.</b></div><div class=\"sk-container\" hidden><div class=\"sk-item\"><div class=\"sk-estimator sk-toggleable\"><input class=\"sk-toggleable__control sk-hidden--visually\" id=\"sk-estimator-id-7\" type=\"checkbox\" checked><label for=\"sk-estimator-id-7\" class=\"sk-toggleable__label sk-toggleable__label-arrow\">LogisticRegression</label><div class=\"sk-toggleable__content\"><pre>LogisticRegression(multi_class=&#x27;multinomial&#x27;)</pre></div></div></div></div></div>"
      ],
      "text/plain": [
       "LogisticRegression(multi_class='multinomial')"
      ]
     },
     "execution_count": 34,
     "metadata": {},
     "output_type": "execute_result"
    }
   ],
   "source": [
    "#training the model\n",
    "#logistic regression: training using only subject features data\n",
    "model = LogisticRegression(multi_class='multinomial', solver='lbfgs')\n",
    "model.fit(combined_train_features, y_train)"
   ]
  },
  {
   "cell_type": "code",
   "execution_count": 35,
   "id": "468db103-1ef7-4b98-bfc1-73775f2e9284",
   "metadata": {
    "tags": []
   },
   "outputs": [],
   "source": [
    "#evaluating the trained model:\n",
    "#predicting the testing data\n",
    "prediction_test_data = model.predict(combined_test_features)\n",
    "accuracy_on_test_data = accuracy_score(y_test, prediction_test_data)"
   ]
  },
  {
   "cell_type": "code",
   "execution_count": 36,
   "id": "5c8f4bb7-24e4-445a-bf4a-b333eba77e4b",
   "metadata": {
    "tags": []
   },
   "outputs": [
    {
     "name": "stdout",
     "output_type": "stream",
     "text": [
      "accuracy =  0.7076923076923077\n"
     ]
    }
   ],
   "source": [
    "print('accuracy = ', accuracy_on_test_data)"
   ]
  },
  {
   "cell_type": "code",
   "execution_count": 45,
   "id": "bc67b22c-5a4d-4b94-a4e3-7e86f5536260",
   "metadata": {
    "tags": []
   },
   "outputs": [
    {
     "name": "stdout",
     "output_type": "stream",
     "text": [
      "[3]\n"
     ]
    }
   ],
   "source": [
    "#predictive system\n",
    "sender = [\"Google <no-reply@accounts.google.com>\"]\n",
    "subject = [\"Alerte de sécurité\"]\n",
    "\n",
    "#convert to feature vectors\n",
    "input_sender = feature_extraction.transform(sender)\n",
    "input_subject = feature_extraction.transform(subject)\n",
    "input_data_features =  sp.hstack([input_sender, input_subject])\n",
    "\n",
    "#predicting\n",
    "prediction = model.predict(input_data_features)\n",
    "print(prediction)"
   ]
  }
 ],
 "metadata": {
  "kernelspec": {
   "display_name": "Python 3 (ipykernel)",
   "language": "python",
   "name": "python3"
  },
  "language_info": {
   "codemirror_mode": {
    "name": "ipython",
    "version": 3
   },
   "file_extension": ".py",
   "mimetype": "text/x-python",
   "name": "python",
   "nbconvert_exporter": "python",
   "pygments_lexer": "ipython3",
   "version": "3.11.1"
  }
 },
 "nbformat": 4,
 "nbformat_minor": 5
}
